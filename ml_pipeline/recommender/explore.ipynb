{
 "cells": [
  {
   "cell_type": "code",
   "execution_count": 53,
   "metadata": {},
   "outputs": [],
   "source": [
    "import numpy as np\n",
    "import pprint"
   ]
  },
  {
   "cell_type": "code",
   "execution_count": 90,
   "metadata": {},
   "outputs": [],
   "source": [
    "def gen_user_activity(num_users=200, num_lessons=30):\n",
    "\n",
    "    \"\"\"\n",
    "    generates fake data on user activity, 1 meaning they completed a lesson, 0 saying they did not\n",
    "    \n",
    "    inputs\n",
    "    (the dimensions of the array)\n",
    "    num_users: the rows of the returned array\n",
    "    num_lessons: the columns of the returned array\n",
    "    \n",
    "    outputs\n",
    "    user_data: a np array\n",
    "    \"\"\"\n",
    "    lst = []\n",
    "\n",
    "    for _ in range(num_users):\n",
    "        m = np.random.randint(3,20) #number of zeros, the sparseness\n",
    "        n = num_lessons - m\n",
    "        a = np.ones(n+m, dtype=int)\n",
    "        a[:m] = 0\n",
    "\n",
    "        np.random.shuffle(a)\n",
    "        lst.append(list(a))\n",
    "\n",
    "    return np.array(lst)\n",
    "    \n",
    "user_data = gen_user_activity()"
   ]
  },
  {
   "cell_type": "code",
   "execution_count": 91,
   "metadata": {},
   "outputs": [
    {
     "data": {
      "text/plain": [
       "(200, 30)"
      ]
     },
     "execution_count": 91,
     "metadata": {},
     "output_type": "execute_result"
    }
   ],
   "source": [
    "user_data.shape #200 users, 30 lessons"
   ]
  },
  {
   "cell_type": "code",
   "execution_count": 87,
   "metadata": {},
   "outputs": [
    {
     "data": {
      "text/plain": [
       "array([[0, 0, 1, ..., 1, 1, 0],\n",
       "       [1, 0, 1, ..., 0, 0, 1],\n",
       "       [1, 1, 0, ..., 1, 1, 1],\n",
       "       ...,\n",
       "       [0, 0, 1, ..., 1, 0, 0],\n",
       "       [1, 1, 1, ..., 0, 0, 1],\n",
       "       [0, 1, 0, ..., 0, 0, 1]])"
      ]
     },
     "execution_count": 87,
     "metadata": {},
     "output_type": "execute_result"
    }
   ],
   "source": [
    "user_data"
   ]
  },
  {
   "cell_type": "code",
   "execution_count": 50,
   "metadata": {},
   "outputs": [],
   "source": [
    "def gen_lesson_tags(num_lessons=30):\n",
    "    \"\"\"\n",
    "    produces fake lessons tags\n",
    "    \n",
    "    inputs\n",
    "    num_lessons: number of lessons\n",
    "    \n",
    "    \"\"\"\n",
    "    lst = []\n",
    "    for _ in range(num_lessons):\n",
    "        m = np.random.randint(10,15)\n",
    "        \n",
    "\n",
    "        b = np.geomspace(.001,.85, num=15)\n",
    "        b[:m] = 0\n",
    "        np.random.shuffle(b)\n",
    "        lst.append(list(np.round(b,4)))\n",
    "        \n",
    "    return np.array(lst)\n",
    "lesson_topics = gen_lesson_tags()"
   ]
  },
  {
   "cell_type": "code",
   "execution_count": 51,
   "metadata": {},
   "outputs": [
    {
     "data": {
      "text/plain": [
       "(30, 15)"
      ]
     },
     "execution_count": 51,
     "metadata": {},
     "output_type": "execute_result"
    }
   ],
   "source": [
    "lesson_topics.shape #30 lessons, 15 topics"
   ]
  },
  {
   "cell_type": "code",
   "execution_count": 60,
   "metadata": {},
   "outputs": [
    {
     "name": "stdout",
     "output_type": "stream",
     "text": [
      "array([[0.    , 0.    , 0.    , 0.85  , 0.    , 0.    , 0.    , 0.    ,\n",
      "        0.    , 0.    , 0.    , 0.    , 0.525 , 0.3243, 0.    ],\n",
      "       [0.    , 0.85  , 0.3243, 0.    , 0.    , 0.    , 0.    , 0.    ,\n",
      "        0.    , 0.    , 0.525 , 0.2003, 0.    , 0.    , 0.    ],\n",
      "       [0.    , 0.    , 0.    , 0.    , 0.    , 0.3243, 0.    , 0.85  ,\n",
      "        0.    , 0.2003, 0.    , 0.    , 0.525 , 0.    , 0.    ],\n",
      "       [0.    , 0.    , 0.    , 0.    , 0.    , 0.    , 0.    , 0.525 ,\n",
      "        0.    , 0.    , 0.    , 0.85  , 0.    , 0.    , 0.    ],\n",
      "       [0.    , 0.    , 0.    , 0.    , 0.    , 0.    , 0.    , 0.    ,\n",
      "        0.85  , 0.    , 0.    , 0.    , 0.    , 0.    , 0.    ],\n",
      "       [0.525 , 0.    , 0.    , 0.    , 0.    , 0.    , 0.    , 0.    ,\n",
      "        0.    , 0.3243, 0.    , 0.    , 0.85  , 0.    , 0.    ],\n",
      "       [0.    , 0.    , 0.    , 0.525 , 0.    , 0.85  , 0.    , 0.    ,\n",
      "        0.    , 0.    , 0.    , 0.    , 0.    , 0.    , 0.    ],\n",
      "       [0.85  , 0.    , 0.525 , 0.    , 0.    , 0.    , 0.    , 0.    ,\n",
      "        0.2003, 0.    , 0.    , 0.    , 0.    , 0.3243, 0.    ],\n",
      "       [0.    , 0.    , 0.    , 0.    , 0.    , 0.    , 0.    , 0.    ,\n",
      "        0.    , 0.2003, 0.    , 0.85  , 0.    , 0.3243, 0.525 ],\n",
      "       [0.85  , 0.    , 0.525 , 0.    , 0.    , 0.    , 0.    , 0.    ,\n",
      "        0.2003, 0.    , 0.1237, 0.3243, 0.    , 0.    , 0.    ],\n",
      "       [0.    , 0.    , 0.    , 0.    , 0.    , 0.    , 0.    , 0.    ,\n",
      "        0.525 , 0.    , 0.    , 0.    , 0.    , 0.85  , 0.    ],\n",
      "       [0.    , 0.    , 0.525 , 0.    , 0.    , 0.    , 0.    , 0.    ,\n",
      "        0.85  , 0.    , 0.    , 0.    , 0.    , 0.    , 0.    ],\n",
      "       [0.    , 0.    , 0.    , 0.525 , 0.    , 0.    , 0.    , 0.    ,\n",
      "        0.85  , 0.    , 0.    , 0.    , 0.    , 0.    , 0.    ],\n",
      "       [0.    , 0.    , 0.525 , 0.    , 0.    , 0.    , 0.2003, 0.    ,\n",
      "        0.85  , 0.    , 0.    , 0.    , 0.    , 0.    , 0.3243],\n",
      "       [0.    , 0.    , 0.    , 0.    , 0.    , 0.85  , 0.    , 0.    ,\n",
      "        0.    , 0.    , 0.    , 0.    , 0.    , 0.    , 0.    ],\n",
      "       [0.1237, 0.3243, 0.85  , 0.    , 0.    , 0.    , 0.    , 0.    ,\n",
      "        0.    , 0.525 , 0.    , 0.2003, 0.    , 0.    , 0.    ],\n",
      "       [0.    , 0.    , 0.1237, 0.    , 0.85  , 0.    , 0.    , 0.2003,\n",
      "        0.    , 0.    , 0.3243, 0.525 , 0.    , 0.    , 0.    ],\n",
      "       [0.525 , 0.    , 0.    , 0.85  , 0.    , 0.2003, 0.    , 0.    ,\n",
      "        0.    , 0.1237, 0.    , 0.    , 0.    , 0.3243, 0.    ],\n",
      "       [0.    , 0.85  , 0.    , 0.3243, 0.    , 0.    , 0.    , 0.    ,\n",
      "        0.525 , 0.    , 0.2003, 0.    , 0.    , 0.1237, 0.    ],\n",
      "       [0.2003, 0.    , 0.    , 0.85  , 0.    , 0.    , 0.    , 0.    ,\n",
      "        0.525 , 0.3243, 0.    , 0.    , 0.    , 0.    , 0.    ],\n",
      "       [0.    , 0.    , 0.    , 0.    , 0.    , 0.    , 0.    , 0.    ,\n",
      "        0.    , 0.    , 0.    , 0.    , 0.    , 0.85  , 0.    ],\n",
      "       [0.    , 0.    , 0.    , 0.    , 0.3243, 0.    , 0.    , 0.    ,\n",
      "        0.525 , 0.    , 0.    , 0.    , 0.    , 0.2003, 0.85  ],\n",
      "       [0.    , 0.    , 0.    , 0.    , 0.    , 0.525 , 0.    , 0.    ,\n",
      "        0.    , 0.85  , 0.    , 0.    , 0.    , 0.    , 0.    ],\n",
      "       [0.    , 0.85  , 0.    , 0.    , 0.    , 0.    , 0.    , 0.    ,\n",
      "        0.525 , 0.    , 0.    , 0.3243, 0.    , 0.    , 0.2003],\n",
      "       [0.    , 0.    , 0.    , 0.3243, 0.    , 0.1237, 0.2003, 0.    ,\n",
      "        0.    , 0.525 , 0.    , 0.    , 0.    , 0.    , 0.85  ],\n",
      "       [0.    , 0.85  , 0.    , 0.    , 0.    , 0.    , 0.    , 0.    ,\n",
      "        0.    , 0.    , 0.    , 0.    , 0.    , 0.    , 0.    ],\n",
      "       [0.    , 0.    , 0.85  , 0.    , 0.1237, 0.    , 0.    , 0.    ,\n",
      "        0.    , 0.3243, 0.    , 0.525 , 0.    , 0.2003, 0.    ],\n",
      "       [0.    , 0.1237, 0.    , 0.    , 0.525 , 0.    , 0.    , 0.    ,\n",
      "        0.    , 0.3243, 0.    , 0.    , 0.2003, 0.85  , 0.    ],\n",
      "       [0.525 , 0.    , 0.    , 0.    , 0.    , 0.85  , 0.    , 0.    ,\n",
      "        0.    , 0.2003, 0.    , 0.    , 0.3243, 0.    , 0.    ],\n",
      "       [0.    , 0.    , 0.    , 0.    , 0.    , 0.    , 0.    , 0.85  ,\n",
      "        0.525 , 0.    , 0.    , 0.    , 0.    , 0.    , 0.    ]])\n"
     ]
    }
   ],
   "source": [
    "pprint.pprint(lesson_topics)"
   ]
  },
  {
   "cell_type": "code",
   "execution_count": null,
   "metadata": {},
   "outputs": [],
   "source": []
  },
  {
   "cell_type": "code",
   "execution_count": null,
   "metadata": {},
   "outputs": [],
   "source": []
  }
 ],
 "metadata": {
  "kernelspec": {
   "display_name": "Python 3",
   "language": "python",
   "name": "python3"
  },
  "language_info": {
   "codemirror_mode": {
    "name": "ipython",
    "version": 3
   },
   "file_extension": ".py",
   "mimetype": "text/x-python",
   "name": "python",
   "nbconvert_exporter": "python",
   "pygments_lexer": "ipython3",
   "version": "3.7.7"
  }
 },
 "nbformat": 4,
 "nbformat_minor": 4
}
