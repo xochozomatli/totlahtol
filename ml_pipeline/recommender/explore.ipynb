{
 "cells": [
  {
   "cell_type": "code",
   "execution_count": 1,
   "metadata": {},
   "outputs": [],
   "source": [
    "import numpy as np"
   ]
  },
  {
   "cell_type": "code",
   "execution_count": 90,
   "metadata": {},
   "outputs": [],
   "source": [
    "def gen_user_activity(num_users=200, num_lessons=30):\n",
    "\n",
    "    \"\"\"\n",
    "    generates fake data on user activity, 1 meaning they completed a lesson, 0 saying they did not\n",
    "    \n",
    "    inputs\n",
    "    (the dimensions of the array)\n",
    "    num_users: the rows of the returned array\n",
    "    num_lessons: the columns of the returned array\n",
    "    \n",
    "    outputs\n",
    "    user_data: a np array\n",
    "    \"\"\"\n",
    "    lst = []\n",
    "\n",
    "    for _ in range(num_users):\n",
    "        m = np.random.randint(3,20) #number of zeros, the sparseness\n",
    "        n = num_lessons - m\n",
    "        a = np.ones(n+m, dtype=int)\n",
    "        a[:m] = 0\n",
    "\n",
    "        np.random.shuffle(a)\n",
    "        lst.append(list(a))\n",
    "\n",
    "    return np.array(lst)\n",
    "    \n",
    "user_data = gen_user_activity()"
   ]
  },
  {
   "cell_type": "code",
   "execution_count": 91,
   "metadata": {},
   "outputs": [
    {
     "data": {
      "text/plain": [
       "(200, 30)"
      ]
     },
     "execution_count": 91,
     "metadata": {},
     "output_type": "execute_result"
    }
   ],
   "source": [
    "user_data.shape #20 users, 30 lessons"
   ]
  },
  {
   "cell_type": "code",
   "execution_count": 87,
   "metadata": {},
   "outputs": [
    {
     "data": {
      "text/plain": [
       "array([[0, 0, 1, ..., 1, 1, 0],\n",
       "       [1, 0, 1, ..., 0, 0, 1],\n",
       "       [1, 1, 0, ..., 1, 1, 1],\n",
       "       ...,\n",
       "       [0, 0, 1, ..., 1, 0, 0],\n",
       "       [1, 1, 1, ..., 0, 0, 1],\n",
       "       [0, 1, 0, ..., 0, 0, 1]])"
      ]
     },
     "execution_count": 87,
     "metadata": {},
     "output_type": "execute_result"
    }
   ],
   "source": [
    "user_data"
   ]
  },
  {
   "cell_type": "code",
   "execution_count": 92,
   "metadata": {},
   "outputs": [
    {
     "name": "stdout",
     "output_type": "stream",
     "text": [
      "[0.9        0.25714286 0.         0.51428571 0.45       0.77142857\n",
      " 0.38571429 0.83571429 0.64285714 0.57857143 0.70714286 0.\n",
      " 0.32142857 0.         0.        ] 4\n"
     ]
    }
   ],
   "source": [
    "def gen_lesson_topics():\n",
    "    \"\"\"\n",
    "    \n",
    "    TODO: improve distribution to be fewer higher nums\n",
    "    \"\"\"\n",
    "    \n",
    "    m = np.random.randint(2,6)\n",
    "\n",
    "    b = np.linspace(0,.90, num=15)\n",
    "    b[:m] = 0\n",
    "    np.random.shuffle(b)\n",
    "    return b"
   ]
  },
  {
   "cell_type": "code",
   "execution_count": null,
   "metadata": {},
   "outputs": [],
   "source": []
  },
  {
   "cell_type": "code",
   "execution_count": null,
   "metadata": {},
   "outputs": [],
   "source": []
  }
 ],
 "metadata": {
  "kernelspec": {
   "display_name": "Python 3",
   "language": "python",
   "name": "python3"
  },
  "language_info": {
   "codemirror_mode": {
    "name": "ipython",
    "version": 3
   },
   "file_extension": ".py",
   "mimetype": "text/x-python",
   "name": "python",
   "nbconvert_exporter": "python",
   "pygments_lexer": "ipython3",
   "version": "3.7.7"
  }
 },
 "nbformat": 4,
 "nbformat_minor": 4
}
